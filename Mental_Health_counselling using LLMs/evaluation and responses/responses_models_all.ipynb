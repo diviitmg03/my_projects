{
 "cells": [
  {
   "cell_type": "code",
   "execution_count": 6,
   "metadata": {},
   "outputs": [
    {
     "name": "stdout",
     "output_type": "stream",
     "text": [
      "Yes, definitely crying is normal during therapy.   Anyone in the midst of new awareness of how they've been hurt, or feel despair or great sadness from burdensome life situations, naturally will feel tears come up.Therapists are familiar with people crying during a session and will know how to be present for you while you sort through your painful emotions.\n",
      "Wow what a painful journey you have been in for a long time. Death and grief bring up so many painful reminders of relationships--what they could have been, never were, and what was lost. With death of a family member the family often falls apart for a while... or longer. I hope you can find some support for you and your pain that was occurring before your mom's passing. I also hope you could find someone to help you set boundaries with your sister so you can have your time (as long as you need) to heal from losing your mom and then later figure out how to interact with your mom.\n",
      "Sorry that your growing up years in the family were so unsafe and painful.Everyone has family legacy patterns of behavior and ways of handling emotions, handed down to them simply by living.All of what any child observes and how they are treated within their family context, creates their foundational expectations of others.The best way of releasing yourself form hurtful interaction patterns is by being aware of your own feelings and intuition within close relationships.If you have a similar sense of hurt or that something is wrong, yet in a familiar way, then most likely you are in a relational pattern similar to the negative ones in your family of origin.This realization moment is your chance to more deeply see your own original trauma and try different ways of responding to these similar key situations.This type of work takes a lot of repeated effort because trauma is deep and childhood trauma is attached to loving ones parents.Expect slow progress and expect more than a few tears.If it feels overwhelming then a therapist for guidance and support would be very beneficial to the work you'd be doing within yourself.Sending lots of good luck!\n",
      "I would recommend removing yourself from the environment you are in after you have finished eating. A simple walk around the block, calling up a friend and going to visit, or even going to another room in the house can help. If you find that you truly have no self control over food, I recommend attending Overeaters Anonymous; a 12 step group for those with compulsive issues related to food. I hope this helps.\n",
      "Panic attacks can be scary and overwhelming, but there are a few things you can do to help yourself cope with them.  One thing I would suggest is to find a therapist who specializes in panic attacks. They can help you learn healthy coping mechanisms to manage your panic attacks, such as deep breathing exercises, mindfulness techniques, and cognitive restructuring. You can also contact me via my website: http://psychcentral.com/lib/panic-anxiety-disorder/basics/what-is-the-best-case-right-now?page=2\n"
     ]
    }
   ],
   "source": [
    "import torch\n",
    "from transformers import BartForConditionalGeneration, BartTokenizer\n",
    "\n",
    "model = BartForConditionalGeneration.from_pretrained(r'F:\\model_results\\bart_50\\final\\final_model')\n",
    "tokenizer = BartTokenizer.from_pretrained(r'F:\\model_results\\bart_50\\final\\final_tokenizer')\n",
    "\n",
    "\n",
    "\n",
    "def evaluate_model(texts, model, tokenizer):\n",
    "    results = []\n",
    "    for text in texts:\n",
    "        inputs = tokenizer(text, return_tensors='pt', truncation=True, max_length=512)\n",
    "        with torch.no_grad():\n",
    "            outputs = model.generate(\n",
    "                **inputs,\n",
    "                max_length=512,  \n",
    "                num_beams=5,    \n",
    "                early_stopping=True,\n",
    "                pad_token_id=tokenizer.eos_token_id)\n",
    "            \n",
    "        generated_text = tokenizer.decode(outputs[0], skip_special_tokens=True)\n",
    "        print(generated_text)\n",
    "        results.append(generated_text)\n",
    "    return results\n",
    "\n",
    "texts = [\"Is it normal for people to cry during therapy, or is it just me?\",\n",
    "         \"Last year, I just always felt hopeless. I don't have a great relationship with my sister. I lost my mother recently, and that really added to my sadness. My sister always brings up how I was never close to my mother.\",\n",
    "         \"I have family issues, and my dad was both violent and a cheater.\",\n",
    "         \"I have no self control over food. Most people stop when they've had enough, but I keep eating for the pleasure of it. Especially with sweets - I'm never done eating dessert.\",\n",
    "         \"Give me solution for my panic attacks.\"]\n",
    "evaluation_results_bart = evaluate_model(texts, model, tokenizer)\n"
   ]
  },
  {
   "cell_type": "code",
   "execution_count": 7,
   "metadata": {},
   "outputs": [
    {
     "name": "stdout",
     "output_type": "stream",
     "text": [
      "Yes, it's normal to cry during therapy. Therapy is a place where you are able to express your feelings in a safe and supportive environment. It's also a place where you can express your feelings in a safe and supportive environment. It's also a place where you can express your feelings in a safe environment.\n",
      "Hello, and thank you for your question. I am so sorry to hear of your loss. I am so sorry to hear of your loss. I am so sorry to hear of your loss. I am so sorry to hear of your loss. I am so sorry to hear of your loss. I am so sorry to hear of your loss. I am so sorry to hear of your loss. I am so sorry to hear of your loss. I am so sorry to hear of your loss. I am so sorry to hear of your loss. I am so sorry to hear of your loss. I wish you well.\n",
      "p>I'm sorry to hear about your situation. &nbsp;/p>p>I'm sorry to hear about your situation. &nbsp;/p>p>I'm sorry to hear about your situation. &nbsp;/p>p>br>/p>p>br>/p>p>br>/p>p>br>/p>p>br>/p>\n",
      "Hello, and thank you for your question. I'm glad you're reaching out. I'm glad you're reaching out. I'm glad you're reaching out. I'm glad you're reaching out. I'm glad you're reaching out. I'm glad you're reaching out. I'm glad you're reaching out. I'm glad you're reaching out. I'm glad you're reaching out. I'm glad you're reaching out. I'm glad you're reaching out. I'm glad you're reaching out. I'm glad you're reaching out. I'm glad you're reaching out. I'm glad you're reaching out. I'm glad you're reaching out. I'm glad you're reaching out. I'm glad you're reaching out. I'm glad you're reaching out. I'm glad you're reaching out. I'm glad you're reaching out. I wish you the best.\n",
      "Panic attacks can be very distressing, but it's important to remember that you are not alone. Let's work together to identify the triggers for your panic attacks and develop coping strategies to manage them. We can also explore any underlying issues that may be contributing to your panic attacks.\n"
     ]
    }
   ],
   "source": [
    "import torch\n",
    "from transformers import AutoModelForSeq2SeqLM, AutoTokenizer\n",
    "\n",
    "model = AutoModelForSeq2SeqLM.from_pretrained(r'F:\\model_results\\flan_50\\final\\final_model')\n",
    "tokenizer = AutoTokenizer.from_pretrained(r'F:\\model_results\\flan_50\\final\\final_tokenizer')\n",
    "\n",
    "\n",
    "\n",
    "def evaluate_model(texts, model, tokenizer):\n",
    "    results = []\n",
    "    for text in texts:\n",
    "        inputs = tokenizer(text, return_tensors='pt', truncation=True, max_length=512)\n",
    "        with torch.no_grad():\n",
    "            outputs = model.generate(\n",
    "                **inputs,\n",
    "                max_length=512,  \n",
    "                num_beams=5,    \n",
    "                early_stopping=True,\n",
    "                pad_token_id=tokenizer.eos_token_id)\n",
    "            \n",
    "        generated_text = tokenizer.decode(outputs[0], skip_special_tokens=True)\n",
    "        print(generated_text)\n",
    "        results.append(generated_text)\n",
    "    return results\n",
    "\n",
    "texts = [\"Is it normal for people to cry during therapy, or is it just me?\",\n",
    "         \"Last year, I just always felt hopeless. I don't have a great relationship with my sister. I lost my mother recently, and that really added to my sadness. My sister always brings up how I was never close to my mother.\",\n",
    "         \"I have family issues, and my dad was both violent and a cheater.\",\n",
    "         \"I have no self control over food. Most people stop when they've had enough, but I keep eating for the pleasure of it. Especially with sweets - I'm never done eating dessert.\",\n",
    "         \"Give me solution for my panic attacks.\"]\n",
    "evaluation_results_flan = evaluate_model(texts, model, tokenizer)"
   ]
  },
  {
   "cell_type": "code",
   "execution_count": 9,
   "metadata": {},
   "outputs": [
    {
     "name": "stdout",
     "output_type": "stream",
     "text": [
      "Yes, it is absolutely normal to cry in therapy. Therapy is a place where you can be vulnerable and you can be vulnerable. It is a place where you can be vulnerable and you can be vulnerable. It is a place where you can be vulnerable and you can be vulnerable. It is a place where you can be vulnerable and you can be vulnerable. It is a place where you can be vulnerable and you can be vulnerable. It is a place where you can be vulnerable and you can be vulnerable.\n",
      "p>I'm sorry for your loss. Losing a mother is a huge loss in a sister-in-law's life. Losing a mother is a loss in itself. Losing a mother is a loss in itself. Losing a mother is a loss in itself. Losing a mother is a loss in itself. Losing a mother is a loss in itself. Losing a mother is a loss in itself. Losing a mother is a loss in your sister's life may be bringing up your sister's relationship with your mother. It may be helpful to talk about your relationship with your sister in a way that is meaningful to you and your sister./p>\n",
      "I'm sorry to hear that your experiences with your past and present traumas have impacted you in different ways. I would encourage you to seek out a therapist who specializes in treating trauma in order to gain a better understanding of how your past impacts your present and future experiences. Often, the effects of past traumas on our current lives are not as profound as they once were. I would encourage you to seek out a therapist who specializes in treating traumas in order to gain a better understanding of your experience and perspective.\n",
      "I would recommend removing yourself from the environment you are in after you have finished eating. A simple walk around the block, calling up a friend and going to visit, or even going to another room in the house can help. If you find that you truly have no self control over food, I recommend attending Overeaters Anonymous; a 12-step group for those with compulsive issues related to food.\n",
      "Panic attacks can be scary and overwhelming. Let's explore what might be causing your panic attacks and see if we can come up with a solution that works for you.\n"
     ]
    }
   ],
   "source": [
    "import torch\n",
    "from transformers import AutoModelForSeq2SeqLM, AutoTokenizer\n",
    "\n",
    "model = AutoModelForSeq2SeqLM.from_pretrained(r'F:\\model_results\\godel\\final_model')\n",
    "tokenizer = AutoTokenizer.from_pretrained(r'F:\\model_results\\godel\\final_tokenizer')\n",
    "\n",
    "\n",
    "\n",
    "def evaluate_model(texts, model, tokenizer):\n",
    "    results = []\n",
    "    for text in texts:\n",
    "        inputs = tokenizer(text, return_tensors='pt', truncation=True, max_length=512)\n",
    "        with torch.no_grad():\n",
    "            outputs = model.generate(\n",
    "                **inputs,\n",
    "                max_length=512,  \n",
    "                num_beams=5,    \n",
    "                early_stopping=True,\n",
    "                pad_token_id=tokenizer.eos_token_id)\n",
    "            \n",
    "        generated_text = tokenizer.decode(outputs[0], skip_special_tokens=True)\n",
    "        print(generated_text)\n",
    "        results.append(generated_text)\n",
    "    return results\n",
    "\n",
    "texts = [\"Is it normal for people to cry during therapy, or is it just me?\",\n",
    "         \"Last year, I just always felt hopeless. I don't have a great relationship with my sister. I lost my mother recently, and that really added to my sadness. My sister always brings up how I was never close to my mother.\",\n",
    "         \"I have family issues, and my dad was both violent and a cheater.\",\n",
    "         \"I have no self control over food. Most people stop when they've had enough, but I keep eating for the pleasure of it. Especially with sweets - I'm never done eating dessert.\",\n",
    "         \"Give me solution for my panic attacks.\"]\n",
    "evaluation_results_godel = evaluate_model(texts, model, tokenizer)\n",
    "\n",
    "\n",
    "\n",
    "\n"
   ]
  },
  {
   "cell_type": "code",
   "execution_count": 10,
   "metadata": {},
   "outputs": [
    {
     "name": "stdout",
     "output_type": "stream",
     "text": [
      "It's normal to cry during therapy, but it's not normal to cry during therapy. It's not normal to cry during therapy, but it's not normal to cry during therapy.\n",
      "p>I'm sorry to hear that you lost your mother. &nbsp;I'm sorry that you lost your mother. &nbsp;I'm sorry that you lost your mother. &nbsp;I'm sorry that you lost your mother. &nbsp;I'm sorry that you lost your mother. &nbsp;I'm sorry that you lost your mother. &nbsp;/p>p>br>/p>p>br>/p>p>br>/p>p>br>/p>p>br>/p>p>br>/p>p>br>/p>p>br>/p>p>br>/p>p>br>/p>p>br>/p>p>br>/p>p>br>/p>p>br>/p>p>br>/p>p>br>/p>p>br>/p>p>br>/p>p>br>/p>p>br>/p>p>br>/p>p>br>/p>p>br>/p>p>br>/p>p>br>/p>p>br>/p>p>br>/p>p>br>/p>p>br>/p>p>br>/p>p>br>/p>p>br>/p>p>br>/p>p>br>/p>p>br>/p>p>br>/p>p>\n",
      "It sounds like you have family issues, and your dad was both violent and a cheater. It sounds like you have family issues, and your dad was both a cheater and violent, and your dad was a cheater. It sounds like you have family issues, and your dad was both violent and a cheater.\n",
      "p>It sounds like you have no self control over food. &nbsp;It sounds like you have no self control over food. &nbsp;It sounds like you have no self control over food. &nbsp;It sounds like you have no self control over food. &nbsp;It sounds like you have no self control over food. &nbsp;It sounds like you have no self control over food. &nbsp;/p>p>br>/p>p>br>/p>p>br>/p>p>br>/p>\n",
      "p>I'm sorry to hear about your panic attacks. &nbsp;/p>p>I'm sorry to hear about your panic attacks. &nbsp;/p>p>I'm sorry to hear about your panic attacks. &nbsp;/p>\n"
     ]
    }
   ],
   "source": [
    "#loading t5 model from checkpoint\n",
    "import torch\n",
    "from transformers import AutoModelForSeq2SeqLM, AutoTokenizer\n",
    "\n",
    "checkpoint_dir = r\"F:\\model_results\\t5\\results\\checkpoint-24850\"\n",
    "\n",
    "tokenizer = AutoTokenizer.from_pretrained(\"google-t5/t5-small\")\n",
    "model = AutoModelForSeq2SeqLM.from_pretrained(checkpoint_dir)\n",
    "\n",
    "\n",
    "\n",
    "def evaluate_model(texts, model, tokenizer):\n",
    "    results = []\n",
    "    for text in texts:\n",
    "        inputs = tokenizer(text, return_tensors='pt', truncation=True, max_length=512)\n",
    "        with torch.no_grad():\n",
    "            outputs = model.generate(\n",
    "                **inputs,\n",
    "                max_length=512,  \n",
    "                num_beams=5,    \n",
    "                early_stopping=True,\n",
    "                pad_token_id=tokenizer.eos_token_id)\n",
    "            \n",
    "        generated_text = tokenizer.decode(outputs[0], skip_special_tokens=True)\n",
    "        print(generated_text)\n",
    "        results.append(generated_text)\n",
    "    return results\n",
    "\n",
    "texts = [\"Is it normal for people to cry during therapy, or is it just me?\",\n",
    "         \"Last year, I just always felt hopeless. I don't have a great relationship with my sister. I lost my mother recently, and that really added to my sadness. My sister always brings up how I was never close to my mother.\",\n",
    "         \"I have family issues, and my dad was both violent and a cheater.\",\n",
    "         \"I have no self control over food. Most people stop when they've had enough, but I keep eating for the pleasure of it. Especially with sweets - I'm never done eating dessert.\",\n",
    "         \"Give me solution for my panic attacks.\"]\n",
    "evaluation_results_t5 = evaluate_model(texts, model, tokenizer)\n"
   ]
  }
 ],
 "metadata": {
  "kernelspec": {
   "display_name": "Python 3",
   "language": "python",
   "name": "python3"
  },
  "language_info": {
   "codemirror_mode": {
    "name": "ipython",
    "version": 3
   },
   "file_extension": ".py",
   "mimetype": "text/x-python",
   "name": "python",
   "nbconvert_exporter": "python",
   "pygments_lexer": "ipython3",
   "version": "3.11.0"
  }
 },
 "nbformat": 4,
 "nbformat_minor": 2
}
