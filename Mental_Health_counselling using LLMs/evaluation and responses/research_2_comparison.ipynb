{
 "cells": [
  {
   "cell_type": "code",
   "execution_count": 4,
   "metadata": {},
   "outputs": [
    {
     "name": "stdout",
     "output_type": "stream",
     "text": [
      "It's great that you recognize the need to manage your anxiety in social settings. One technique that can be helpful is deep breathing exercises. Take slow, deep breaths in through your nose and out through your mouth. You can also try progressive muscle relaxation, where you tense and then relax each muscle group in your body one at a time. It's important to also make sure you are getting enough sleep and eating a healthy diet. If you continue to struggle with anxiety, you may benefit from cognitive behavioral therapy, which can help you identify and challenge negative thought patterns that contribute to your anxiety.\n",
      "It's important to recognize that depression is a treatable condition, and there are many effective treatments available. Therapy, medication, and lifestyle changes can all be effective treatments for depression.\n",
      "Burnout is a common experience, but it's important to find ways to manage it effectively. Here are some strategies to help you cope with burnout:\n",
      "\n",
      "1. Practice self-care: Engage in activities that bring you joy, such as exercise, hobbies, or spending time with loved ones.\n",
      "\n",
      "2. Seek professional help: Consider talking to a therapist or counselor who can provide guidance and support tailored to your specific needs. They can help you develop coping strategies to manage stress and improve your work-life balance.\n",
      "It's important to approach arguments and disagreements calmly and respectfully. One technique is to practice active listening, where you focus on what the other person is saying without interrupting or judging. Additionally, practicing empathy and understanding each other's point of view can also be helpful in resolving disagreements and disagreements.\n",
      "There are many relaxation techniques that can help reduce stress, such as deep breathing exercises, progressive muscle relaxation, and mindfulness meditation. It's also important to identify any sources of stress and take steps to address them.\n"
     ]
    }
   ],
   "source": [
    "import torch\n",
    "from transformers import BartForConditionalGeneration, BartTokenizer\n",
    "\n",
    "model = BartForConditionalGeneration.from_pretrained(r'F:\\model_results\\bart_50\\final\\final_model')\n",
    "tokenizer = BartTokenizer.from_pretrained(r'F:\\model_results\\bart_50\\final\\final_tokenizer')\n",
    "\n",
    "\n",
    "\n",
    "def evaluate_model(texts, model, tokenizer):\n",
    "    results = []\n",
    "    for text in texts:\n",
    "        inputs = tokenizer(text, return_tensors='pt', truncation=True, max_length=512)\n",
    "        with torch.no_grad():\n",
    "            outputs = model.generate(\n",
    "                **inputs,\n",
    "                max_length=512,  \n",
    "                num_beams=5,    \n",
    "                early_stopping=True,\n",
    "                pad_token_id=tokenizer.eos_token_id)\n",
    "            \n",
    "        generated_text = tokenizer.decode(outputs[0], skip_special_tokens=True)\n",
    "        print(generated_text)\n",
    "        results.append(generated_text)\n",
    "    return results\n",
    "\n",
    "texts = [\"I feel anxious all the time, especially in social settings. How can I manage this better?\",\n",
    "         \"Lately, I’ve been feeling sad and unmotivated. Is there a way to overcome this?\",\n",
    "         \"What are some strategies to avoid burnout in a high-stress job?\",\n",
    "         \"What can I do to handle arguments and disagreements more calmly?\",\n",
    "         \"What are some quick ways to relax when I’m feeling extremely stressed?\"]\n",
    "evaluation_results_bart = evaluate_model(texts, model, tokenizer)\n"
   ]
  },
  {
   "cell_type": "code",
   "execution_count": 1,
   "metadata": {},
   "outputs": [
    {
     "name": "stderr",
     "output_type": "stream",
     "text": [
      "c:\\Users\\diviit\\AppData\\Local\\Programs\\Python\\Python311\\Lib\\site-packages\\tqdm\\auto.py:21: TqdmWarning: IProgress not found. Please update jupyter and ipywidgets. See https://ipywidgets.readthedocs.io/en/stable/user_install.html\n",
      "  from .autonotebook import tqdm as notebook_tqdm\n"
     ]
    },
    {
     "name": "stdout",
     "output_type": "stream",
     "text": [
      "Perplexity: 3.7250659465789795\n"
     ]
    }
   ],
   "source": [
    "from transformers import BartTokenizer, BartForConditionalGeneration\n",
    "import torch\n",
    "import math\n",
    "\n",
    "# Load your model and tokenizer\n",
    "model = BartForConditionalGeneration.from_pretrained(r'F:\\model_results\\bart_50\\final\\final_model')\n",
    "tokenizer = BartTokenizer.from_pretrained(r'F:\\model_results\\bart_50\\final\\final_tokenizer')\n",
    "\n",
    "def calculate_perplexity(model, tokenizer, text):\n",
    "    inputs = tokenizer(text, return_tensors=\"pt\")\n",
    "    outputs = model(**inputs, labels=inputs[\"input_ids\"])\n",
    "    loss = outputs.loss\n",
    "    perplexity = torch.exp(loss).item()\n",
    "    return perplexity\n",
    "\n",
    "# Example usage\n",
    "text_sample = \"I constantly worry about things I can’t control. How can I let go of this feeling?\"\n",
    "perplexity_score = calculate_perplexity(model, tokenizer, text_sample)\n",
    "print(\"Perplexity:\", perplexity_score)\n"
   ]
  },
  {
   "cell_type": "code",
   "execution_count": 11,
   "metadata": {},
   "outputs": [
    {
     "name": "stdout",
     "output_type": "stream",
     "text": [
      "Average Latency (seconds): 1.3176603317260742\n"
     ]
    }
   ],
   "source": [
    "import time\n",
    "\n",
    "# Sample text batch\n",
    "texts = [\"I feel anxious all the time, especially in social settings. How can I manage this better?\",\n",
    "         \"Lately, I’ve been feeling sad and unmotivated. Is there a way to overcome this?\",\n",
    "         \"What are some strategies to avoid burnout in a high-stress job?\",\n",
    "         \"What can I do to handle arguments and disagreements more calmly?\",\n",
    "         \"What are some quick ways to relax when I’m feeling extremely stressed?\"]\n",
    "# Measure time for batch inference\n",
    "start_time = time.time()\n",
    "for text in texts:\n",
    "    inputs = tokenizer(text, return_tensors=\"pt\")\n",
    "    model.generate(**inputs)\n",
    "end_time = time.time()\n",
    "\n",
    "avg_latency = (end_time - start_time) / len(texts)\n",
    "print(\"Average Latency (seconds):\", avg_latency)\n"
   ]
  },
  {
   "cell_type": "code",
   "execution_count": 8,
   "metadata": {},
   "outputs": [
    {
     "data": {
      "text/plain": [
       "[\"It's great that you recognize the need to manage your anxiety in social settings. One technique that can be helpful is deep breathing exercises. Take slow, deep breaths in through your nose and out through your mouth. You can also try progressive muscle relaxation, where you tense and then relax each muscle group in your body one at a time. It's important to also make sure you are getting enough sleep and eating a healthy diet. If you continue to struggle with anxiety, you may benefit from cognitive behavioral therapy, which can help you identify and challenge negative thought patterns that contribute to your anxiety.\",\n",
       " \"It's important to recognize that depression is a treatable condition, and there are many effective treatments available. Therapy, medication, and lifestyle changes can all be effective treatments for depression.\",\n",
       " \"Burnout is a common experience, but it's important to find ways to manage it effectively. Here are some strategies to help you cope with burnout:\\n\\n1. Practice self-care: Engage in activities that bring you joy, such as exercise, hobbies, or spending time with loved ones.\\n\\n2. Seek professional help: Consider talking to a therapist or counselor who can provide guidance and support tailored to your specific needs. They can help you develop coping strategies to manage stress and improve your work-life balance.\",\n",
       " \"It's important to approach arguments and disagreements calmly and respectfully. One technique is to practice active listening, where you focus on what the other person is saying without interrupting or judging. Additionally, practicing empathy and understanding each other's point of view can also be helpful in resolving disagreements and disagreements.\",\n",
       " \"There are many relaxation techniques that can help reduce stress, such as deep breathing exercises, progressive muscle relaxation, and mindfulness meditation. It's also important to identify any sources of stress and take steps to address them.\"]"
      ]
     },
     "execution_count": 8,
     "metadata": {},
     "output_type": "execute_result"
    }
   ],
   "source": []
  },
  {
   "cell_type": "code",
   "execution_count": 9,
   "metadata": {},
   "outputs": [
    {
     "name": "stdout",
     "output_type": "stream",
     "text": [
      "Sentiment Analysis Scores:\n",
      "Response 1: {'neg': 0.104, 'neu': 0.687, 'pos': 0.208, 'compound': 0.926}\n",
      "Response 2: {'neg': 0.188, 'neu': 0.609, 'pos': 0.203, 'compound': -0.1027}\n",
      "Response 3: {'neg': 0.033, 'neu': 0.631, 'pos': 0.336, 'compound': 0.9883}\n",
      "Response 4: {'neg': 0.166, 'neu': 0.583, 'pos': 0.251, 'compound': 0.5702}\n",
      "Response 5: {'neg': 0.119, 'neu': 0.64, 'pos': 0.241, 'compound': 0.6908}\n"
     ]
    }
   ],
   "source": [
    "from vaderSentiment.vaderSentiment import SentimentIntensityAnalyzer\n",
    "\n",
    "analyzer = SentimentIntensityAnalyzer()\n",
    "\n",
    "def analyze_sentiment(responses):\n",
    "    sentiment_scores = {}\n",
    "    \n",
    "    for idx, text in enumerate(responses):\n",
    "        sentiment_scores[idx] = analyzer.polarity_scores(text)\n",
    "    \n",
    "    return sentiment_scores\n",
    "\n",
    "# Sample list of responses\n",
    "sample_responses = evaluation_results_bart\n",
    "sentiment = analyze_sentiment(sample_responses)\n",
    "print(\"Sentiment Analysis Scores:\")\n",
    "for idx, score in sentiment.items():\n",
    "    print(f\"Response {idx+1}: {score}\")\n"
   ]
  },
  {
   "cell_type": "code",
   "execution_count": 12,
   "metadata": {},
   "outputs": [
    {
     "name": "stdout",
     "output_type": "stream",
     "text": [
      "Response 1:\n",
      "  Word Count: 105\n",
      "  Token Count: 119\n",
      "\n",
      "\n",
      "Response 2:\n",
      "  Word Count: 29\n",
      "  Token Count: 38\n",
      "\n",
      "\n",
      "Response 3:\n",
      "  Word Count: 82\n",
      "  Token Count: 109\n",
      "\n",
      "\n",
      "Response 4:\n",
      "  Word Count: 50\n",
      "  Token Count: 60\n",
      "\n",
      "\n",
      "Response 5:\n",
      "  Word Count: 36\n",
      "  Token Count: 44\n",
      "\n",
      "\n"
     ]
    }
   ],
   "source": [
    "from transformers import BartTokenizer\n",
    "\n",
    "# Initialize the tokenizer\n",
    "\n",
    "# List of responses\n",
    "responses = evaluation_results_bart\n",
    "# Function to calculate token count and word count\n",
    "def calculate_token_and_word_count(responses):\n",
    "    data = []\n",
    "    for response in responses:\n",
    "        tokens = tokenizer.encode(response)\n",
    "        word_count = len(response.split())\n",
    "        data.append({\n",
    "            'response': response,\n",
    "            'token_count': len(tokens),\n",
    "            'word_count': word_count\n",
    "        })\n",
    "    return data\n",
    "\n",
    "# Calculate token and word count for each response\n",
    "response_data = calculate_token_and_word_count(responses)\n",
    "\n",
    "# Print the results\n",
    "for i, res_data in enumerate(response_data):\n",
    "    print(f\"Response {i+1}:\")\n",
    "    print(f\"  Word Count: {res_data['word_count']}\")\n",
    "    print(f\"  Token Count: {res_data['token_count']}\")\n",
    "    print(\"\\n\")\n"
   ]
  },
  {
   "cell_type": "code",
   "execution_count": 17,
   "metadata": {},
   "outputs": [
    {
     "name": "stderr",
     "output_type": "stream",
     "text": [
      "[nltk_data] Downloading package punkt to\n",
      "[nltk_data]     C:\\Users\\diviit\\AppData\\Roaming\\nltk_data...\n",
      "[nltk_data]   Package punkt is already up-to-date!\n",
      "[nltk_data] Downloading package punkt_tab to\n",
      "[nltk_data]     C:\\Users\\diviit\\AppData\\Roaming\\nltk_data...\n",
      "[nltk_data]   Unzipping tokenizers\\punkt_tab.zip.\n"
     ]
    },
    {
     "name": "stdout",
     "output_type": "stream",
     "text": [
      "Response 1:\n",
      "  Word Count: 117\n",
      "  Token Count: 117\n",
      "  Average Sentence Length: 19.5\n",
      "  Lexical Diversity (TTR): 0.6752136752136753\n",
      "\n",
      "Response 2:\n",
      "  Word Count: 35\n",
      "  Token Count: 35\n",
      "  Average Sentence Length: 17.5\n",
      "  Lexical Diversity (TTR): 0.8\n",
      "\n",
      "Response 3:\n",
      "  Word Count: 96\n",
      "  Token Count: 96\n",
      "  Average Sentence Length: 16.0\n",
      "  Lexical Diversity (TTR): 0.7083333333333334\n",
      "\n",
      "Response 4:\n",
      "  Word Count: 57\n",
      "  Token Count: 57\n",
      "  Average Sentence Length: 19.0\n",
      "  Lexical Diversity (TTR): 0.7894736842105263\n",
      "\n",
      "Response 5:\n",
      "  Word Count: 42\n",
      "  Token Count: 42\n",
      "  Average Sentence Length: 21.0\n",
      "  Lexical Diversity (TTR): 0.8333333333333334\n",
      "\n"
     ]
    }
   ],
   "source": [
    "import nltk\n",
    "from nltk.tokenize import word_tokenize, sent_tokenize\n",
    "import numpy as np\n",
    "from collections import Counter\n",
    "\n",
    "# Ensure you have the necessary NLTK resources\n",
    "nltk.download('punkt')\n",
    "nltk.download('punkt_tab')\n",
    "\n",
    "def calculate_metrics_for_responses(responses):\n",
    "    results = []\n",
    "    \n",
    "    for response in responses:\n",
    "        # Tokenize the response into words and sentences\n",
    "        words = word_tokenize(response)\n",
    "        sentences = sent_tokenize(response)\n",
    "        \n",
    "        # Metric 1: Word Count\n",
    "        word_count = len(words)\n",
    "        \n",
    "        # Metric 2: Token Count (same as word count here, can extend if needed)\n",
    "        token_count = len(words)\n",
    "        \n",
    "        # Metric 3: Average Sentence Length (Average number of words per sentence)\n",
    "        avg_sentence_length = word_count / len(sentences) if len(sentences) > 0 else 0\n",
    "        \n",
    "        # Metric 4: Lexical Diversity (Type-Token Ratio)\n",
    "        word_types = len(set(words))  # Unique words\n",
    "        ttr = word_types / word_count if word_count > 0 else 0\n",
    "        \n",
    "        # Append the metrics for this response\n",
    "        results.append({\n",
    "            \"response\": response,\n",
    "            \"word_count\": word_count,\n",
    "            \"token_count\": token_count,\n",
    "            \"avg_sentence_length\": avg_sentence_length,\n",
    "            \"lexical_diversity\": ttr\n",
    "        })\n",
    "    \n",
    "    return results\n",
    "\n",
    "# Example usage with a list of responses\n",
    "responses = evaluation_results_bart\n",
    "\n",
    "metrics = calculate_metrics_for_responses(responses)\n",
    "\n",
    "# Output the results\n",
    "for i, metric in enumerate(metrics):\n",
    "    print(f\"Response {i + 1}:\")\n",
    "    print(f\"  Word Count: {metric['word_count']}\")\n",
    "    print(f\"  Token Count: {metric['token_count']}\")\n",
    "    print(f\"  Average Sentence Length: {metric['avg_sentence_length']}\")\n",
    "    print(f\"  Lexical Diversity (TTR): {metric['lexical_diversity']}\")\n",
    "    print()\n"
   ]
  },
  {
   "cell_type": "code",
   "execution_count": 18,
   "metadata": {},
   "outputs": [
    {
     "data": {
      "image/png": "[encoded data removed]",
      "text/plain": [
       "<Figure size 1000x600 with 1 Axes>"
      ]
     },
     "metadata": {},
     "output_type": "display_data"
    }
   ],
   "source": [
    "import matplotlib.pyplot as plt\n",
    "import numpy as np\n",
    "\n",
    "# Data\n",
    "response_types = ['Anxiety Management', 'Depression', 'Burnout Prevention', 'Conflict Resolution', 'Stress Relief']\n",
    "word_counts = [117, 35, 96, 57, 42]\n",
    "token_counts = [117, 35, 96, 57, 42]\n",
    "\n",
    "x = np.arange(len(response_types))  # X-axis positions\n",
    "\n",
    "# Create the plot\n",
    "fig, ax = plt.subplots(figsize=(10, 6))\n",
    "bar_width = 0.35\n",
    "\n",
    "# Plot bars\n",
    "bars1 = ax.bar(x - bar_width / 2, word_counts, bar_width, label='Word Count')\n",
    "bars2 = ax.bar(x + bar_width / 2, token_counts, bar_width, label='Token Count')\n",
    "\n",
    "# Labels and titles\n",
    "ax.set_xlabel('Response Type')\n",
    "ax.set_ylabel('Count')\n",
    "ax.set_title('Word Count vs Token Count for Each Response Type')\n",
    "ax.set_xticks(x)\n",
    "ax.set_xticklabels(response_types, rotation=45)\n",
    "ax.legend()\n",
    "\n",
    "plt.tight_layout()\n",
    "plt.show()\n"
   ]
  }
 ],
 "metadata": {
  "kernelspec": {
   "display_name": "Python 3",
   "language": "python",
   "name": "python3"
  },
  "language_info": {
   "codemirror_mode": {
    "name": "ipython",
    "version": 3
   },
   "file_extension": ".py",
   "mimetype": "text/x-python",
   "name": "python",
   "nbconvert_exporter": "python",
   "pygments_lexer": "ipython3",
   "version": "3.11.0"
  }
 },
 "nbformat": 4,
 "nbformat_minor": 2
}
