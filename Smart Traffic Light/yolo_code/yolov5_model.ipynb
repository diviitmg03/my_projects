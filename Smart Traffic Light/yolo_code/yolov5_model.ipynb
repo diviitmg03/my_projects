{
 "cells": [
  {
   "cell_type": "code",
   "execution_count": 11,
   "metadata": {},
   "outputs": [],
   "source": [
    "import torch\n",
    "from IPython.display import display, clear_output\n",
    "import cv2\n",
    "from PIL import Image\n",
    "import time\n"
   ]
  },
  {
   "cell_type": "code",
   "execution_count": 3,
   "metadata": {},
   "outputs": [
    {
     "name": "stderr",
     "output_type": "stream",
     "text": [
      "Using cache found in C:\\Users\\diviit/.cache\\torch\\hub\\ultralytics_yolov5_master\n",
      "YOLOv5  2024-2-21 Python-3.11.2 torch-2.2.0+cpu CPU\n",
      "\n",
      "Fusing layers... \n",
      "YOLOv5s summary: 213 layers, 7225885 parameters, 0 gradients, 16.4 GFLOPs\n",
      "Adding AutoShape... \n"
     ]
    }
   ],
   "source": [
    "\n",
    "# Load the model\n",
    "model = torch.hub.load('ultralytics/yolov5', 'yolov5s')"
   ]
  },
  {
   "cell_type": "code",
   "execution_count": 15,
   "metadata": {},
   "outputs": [
    {
     "name": "stderr",
     "output_type": "stream",
     "text": [
      "image 1/1: 480x640 2 persons\n",
      "Speed: 0.0ms pre-process, 206.2ms inference, 0.0ms NMS per image at shape (1, 3, 480, 640)\n",
      "image 1/1: 480x640 1 person\n",
      "Speed: 0.0ms pre-process, 216.5ms inference, 1.0ms NMS per image at shape (1, 3, 480, 640)\n",
      "image 1/1: 480x640 1 person, 1 teddy bear\n",
      "Speed: 4.9ms pre-process, 201.1ms inference, 0.0ms NMS per image at shape (1, 3, 480, 640)\n",
      "image 1/1: 480x640 1 person, 1 cell phone\n",
      "Speed: 4.7ms pre-process, 200.2ms inference, 0.0ms NMS per image at shape (1, 3, 480, 640)\n"
     ]
    }
   ],
   "source": [
    "# define a video capture object\n",
    "vid = cv2.VideoCapture(0)\n",
    "\n",
    "# Start capturing video\n",
    "start_time = time.time()\n",
    "while(True):\n",
    "    # Capture the video frame by frame\n",
    "    ret, frame = vid.read()\n",
    "\n",
    "    # Display the resulting frame\n",
    "    cv2.imshow('frame', frame)\n",
    "\n",
    "    # Perform inference after 10 seconds\n",
    "    if time.time() - start_time > 10:\n",
    "        start_time = time.time()\n",
    "        results = model(frame)\n",
    "        results.print()\n",
    "\n",
    "    # the 'q' button is set as the quitting button you may use any desired button of your choice\n",
    "    if cv2.waitKey(1) == ord('q'):\n",
    "        break\n",
    "\n",
    "# After the loop release the cap object\n",
    "vid.release()\n",
    "# Destroy all the windows\n",
    "cv2.destroyAllWindows()\n"
   ]
  }
 ],
 "metadata": {
  "kernelspec": {
   "display_name": "Python 3",
   "language": "python",
   "name": "python3"
  },
  "language_info": {
   "codemirror_mode": {
    "name": "ipython",
    "version": 3
   },
   "file_extension": ".py",
   "mimetype": "text/x-python",
   "name": "python",
   "nbconvert_exporter": "python",
   "pygments_lexer": "ipython3",
   "version": "3.11.2"
  }
 },
 "nbformat": 4,
 "nbformat_minor": 2
}
